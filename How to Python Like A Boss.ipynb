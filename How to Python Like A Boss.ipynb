{
 "metadata": {
  "name": ""
 },
 "nbformat": 3,
 "nbformat_minor": 0,
 "worksheets": [
  {
   "cells": [
    {
     "cell_type": "markdown",
     "metadata": {
      "slideshow": {
       "slide_type": "slide"
      }
     },
     "source": [
      "How to Python Like a Boss\n",
      "=============\n",
      "## Anaconda & Scipy for data analysis\n",
      "\n",
      "![](files/likeaboss.jpg)\n",
      "\n",
      "## [Clayton Davis](//clayadavis.net) ([@clayadavis](//twitter.com/clayadavis))\n",
      "### NaN group meeting, Indiana University, 23 Sep 2013\n",
      "\n",
      "[GitHub Source](https://github.com/clayadavis/python-like-a-boss)"
     ]
    },
    {
     "cell_type": "markdown",
     "metadata": {
      "slideshow": {
       "slide_type": "slide"
      }
     },
     "source": [
      "#A note before we begin\n",
      "\n",
      "### This is a reveal.js presentation. Move within sections using the up and down buttons/keys, and between sections with left and right. I'd hate for you to miss any of this wonderful content!"
     ]
    },
    {
     "cell_type": "markdown",
     "metadata": {
      "slideshow": {
       "slide_type": "slide"
      }
     },
     "source": [
      "#In short:\n",
      "\n",
      "1. Use a Python distribution\n",
      "2. Use IPython + notebook\n",
      "3. Use the Scipy stack"
     ]
    },
    {
     "cell_type": "markdown",
     "metadata": {
      "slideshow": {
       "slide_type": "subslide"
      }
     },
     "source": [
      "# But why Python?\n",
      "\n",
      "* It's the best thing ever"
     ]
    },
    {
     "cell_type": "markdown",
     "metadata": {
      "slideshow": {
       "slide_type": "subslide"
      }
     },
     "source": [
      "#No, seriously\n",
      "\n",
      "* Expressive language with easy-to-read syntax makes it easier to share and reuse code\n",
      "* Large ecosystem of high-quality modules makes it easy to not reinvent the wheel"
     ]
    },
    {
     "cell_type": "markdown",
     "metadata": {
      "slideshow": {
       "slide_type": "slide"
      }
     },
     "source": [
      "# 1. Use a Python Distribution"
     ]
    },
    {
     "cell_type": "markdown",
     "metadata": {
      "slideshow": {
       "slide_type": "fragment"
      }
     },
     "source": [
      "No, scratch that..."
     ]
    },
    {
     "cell_type": "markdown",
     "metadata": {
      "slideshow": {
       "slide_type": "slide"
      }
     },
     "source": [
      "# 1. Use *Anaconda* Python Distribution\n",
      "\n",
      "[http://continuum.io/downloads](http://continuum.io/downloads)"
     ]
    },
    {
     "cell_type": "markdown",
     "metadata": {
      "slideshow": {
       "slide_type": "subslide"
      }
     },
     "source": [
      "### Convenience\n",
      "\n",
      "* Many popular packages for science and data analysis preinstalled"
     ]
    },
    {
     "cell_type": "markdown",
     "metadata": {
      "slideshow": {
       "slide_type": "subslide"
      }
     },
     "source": [
      "### Portability\n",
      "\n",
      "* Use *your* version and *your* packages on any campus machine\n",
      "    * The Simpsons (CNetS)\n",
      "    * FutureGrid\n",
      "    * Big Red II\n",
      "* Default Python installs on these machines are out of date"
     ]
    },
    {
     "cell_type": "markdown",
     "metadata": {
      "slideshow": {
       "slide_type": "subslide"
      }
     },
     "source": [
      "### Compatibility\n",
      "* Fix the \"Python Packaging Problem\" with dependency resolution\n",
      "* Anaconda uses **`conda`** as its package manager, instead of `pip` or `easy_install`\n",
      "* Use separate environments for incompatible packages"
     ]
    },
    {
     "cell_type": "markdown",
     "metadata": {
      "slideshow": {
       "slide_type": "subslide"
      }
     },
     "source": [
      "### Shareability\n",
      "\n",
      "* Freeze the requirements for a particular package or script\n",
      "    * Share the requirements as dependencies\n",
      "    * If using Anaconda, share the entire environment"
     ]
    },
    {
     "cell_type": "markdown",
     "metadata": {
      "slideshow": {
       "slide_type": "subslide"
      }
     },
     "source": [
      "#DEMOS\n",
      "\n",
      "\n",
      "* Installing and updating Anaconda\n",
      "* Installing packages with `conda` and `pip`\n",
      "* Using `conda` for package environments\n",
      "\n",
      "Docs can be found [online](http://docs.continuum.io/conda/index.html).\n"
     ]
    },
    {
     "cell_type": "markdown",
     "metadata": {
      "slideshow": {
       "slide_type": "subslide"
      }
     },
     "source": [
      "# Installing and updating Anaconda\n",
      "**This works on campus machines**\n",
      "\n",
      "Find the correct link at [http://continuum.io/downloads](http://continuum.io/downloads) then type something like the following in your command shell:\n",
      "<pre>\n",
      "    wget &lt;copy-paste that link&gt;\n",
      "    bash Anaconda-&lt;your version&gt;.sh\n",
      "</pre>\n",
      "    \n",
      "Answer yes at the prompts. At the end, the installer asks if you want to add Anaconda to your `PATH`, say yes if this will be your primary Python install.\n",
      "    "
     ]
    },
    {
     "cell_type": "markdown",
     "metadata": {
      "slideshow": {
       "slide_type": "fragment"
      }
     },
     "source": [
      "To update all of anaconda's packages at once:\n",
      "\n",
      "    conda update anaconda"
     ]
    },
    {
     "cell_type": "markdown",
     "metadata": {
      "slideshow": {
       "slide_type": "subslide"
      }
     },
     "source": [
      "# Installing packages with `conda` and `pip`\n",
      "\n",
      "Conda is preferable since it does dependency resolution:\n",
      "\n",
      "    conda install pymc"
     ]
    },
    {
     "cell_type": "markdown",
     "metadata": {
      "slideshow": {
       "slide_type": "fragment"
      }
     },
     "source": [
      "But not all packages are in the conda repositories\n",
      "    \n",
      "    conda install geopy\n",
      "\n",
      "In that case, use `pip`\n",
      "\n",
      "    pip install geopy"
     ]
    },
    {
     "cell_type": "markdown",
     "metadata": {
      "slideshow": {
       "slide_type": "subslide"
      }
     },
     "source": [
      "# Using `conda` for package environments\n",
      "\n",
      "The current version of NetworkX is 1.8.1, but suppose I have a script that is dependent on NetworkX 1.7 for now. This calls for package environments!"
     ]
    },
    {
     "cell_type": "markdown",
     "metadata": {
      "slideshow": {
       "slide_type": "subslide"
      }
     },
     "source": [
      "* Create a new environment named \"nx1.7\", and link all the Anaconda packages\n",
      "\n",
      "        conda create -n nx1.7 anaconda\n",
      "        \n",
      "* List all currently-defined environments:\n",
      "\n",
      "        conda info -e\n",
      "        \n",
      "* Activate our new environment:\n",
      "\n",
      "        source activate nx1.7\n",
      "        \n",
      "* Replace NetworkX 1.8 with 1.7:\n",
      "        \n",
      "        conda install networkx=1.7\n",
      "        \n",
      "* Deactivate our new environment, returning to the base Anaconda env:\n",
      "\n",
      "        source deactivate nx1.7"
     ]
    },
    {
     "cell_type": "markdown",
     "metadata": {
      "slideshow": {
       "slide_type": "subslide"
      }
     },
     "source": [
      "Environments are also a great way to have Python 2.7 and 3.3 side-by-side:\n",
      "\n",
      "        conda create -n py3.3 python=3.3 anaconda\n",
      "        \n",
      "Then, like before, I can just switch to py3k with a\n",
      "\n",
      "        source activate py3.3\n",
      "        \n",
      "and switch back with\n",
      "\n",
      "        source deactivate py3.3"
     ]
    },
    {
     "cell_type": "markdown",
     "metadata": {
      "slideshow": {
       "slide_type": "slide"
      }
     },
     "source": [
      "#2. Use IPython\n",
      "\n",
      "![](files/ipython.png)\n",
      "\n",
      "[Link](http://ipython.org/)"
     ]
    },
    {
     "cell_type": "markdown",
     "metadata": {
      "slideshow": {
       "slide_type": "slide"
      }
     },
     "source": [
      "#2.1 IPython shell\n",
      "\n",
      "* Enhanced Python shell\n",
      "* Comes in console and Qt versions\n",
      "* Awesome features\n",
      "    * Tab-completion\n",
      "    * Magic (special %-prefixed commands)\n",
      "    * Inline plots in Qt console"
     ]
    },
    {
     "cell_type": "markdown",
     "metadata": {
      "slideshow": {
       "slide_type": "subslide"
      }
     },
     "source": [
      "#IPython magic"
     ]
    },
    {
     "cell_type": "code",
     "collapsed": false,
     "input": [
      "import random as rd\n",
      "import numpy as np"
     ],
     "language": "python",
     "metadata": {
      "slideshow": {
       "slide_type": "fragment"
      }
     },
     "outputs": [],
     "prompt_number": 1
    },
    {
     "cell_type": "code",
     "collapsed": false,
     "input": [
      "%timeit a = [rd.random() for x in range(1000)]"
     ],
     "language": "python",
     "metadata": {
      "slideshow": {
       "slide_type": "fragment"
      }
     },
     "outputs": [
      {
       "output_type": "stream",
       "stream": "stdout",
       "text": [
        "10000 loops, best of 3: 102 \u00b5s per loop\n"
       ]
      }
     ],
     "prompt_number": 2
    },
    {
     "cell_type": "code",
     "collapsed": false,
     "input": [
      "%timeit a = [np.random.random() for x in range(1000)]"
     ],
     "language": "python",
     "metadata": {
      "slideshow": {
       "slide_type": "fragment"
      }
     },
     "outputs": [
      {
       "output_type": "stream",
       "stream": "stdout",
       "text": [
        "10000 loops, best of 3: 182 \u00b5s per loop\n"
       ]
      }
     ],
     "prompt_number": 3
    },
    {
     "cell_type": "code",
     "collapsed": false,
     "input": [
      "%timeit a = np.random.random(1000)"
     ],
     "language": "python",
     "metadata": {
      "slideshow": {
       "slide_type": "fragment"
      }
     },
     "outputs": [
      {
       "output_type": "stream",
       "stream": "stdout",
       "text": [
        "100000 loops, best of 3: 14 \u00b5s per loop\n"
       ]
      }
     ],
     "prompt_number": 4
    },
    {
     "cell_type": "markdown",
     "metadata": {
      "slideshow": {
       "slide_type": "fragment"
      }
     },
     "source": [
      "There are also cell magics for use in IPython notebook"
     ]
    },
    {
     "cell_type": "code",
     "collapsed": false,
     "input": [
      "%%time\n",
      "# This is a terrible way to do this\n",
      "fib = [0, 1]\n",
      "for i in range(10**5):\n",
      "    fib.append(fib[-1] + fib[-2])"
     ],
     "language": "python",
     "metadata": {
      "slideshow": {
       "slide_type": "fragment"
      }
     },
     "outputs": [
      {
       "output_type": "stream",
       "stream": "stdout",
       "text": [
        "CPU times: user 208 ms, sys: 24 ms, total: 232 ms\n",
        "Wall time: 210 ms\n"
       ]
      }
     ],
     "prompt_number": 15
    },
    {
     "cell_type": "markdown",
     "metadata": {
      "slideshow": {
       "slide_type": "subslide"
      }
     },
     "source": [
      "#DEMO Qt console\n",
      "\n",
      "Run the following:\n",
      "<pre>\n",
      "    ipython qtconsole --pylab inline\n",
      "</pre>\n",
      "    \n",
      "then paste this in the Qt console:"
     ]
    },
    {
     "cell_type": "code",
     "collapsed": false,
     "input": [
      "from scipy.special import jn\n",
      "x = linspace(0, 4*pi)\n",
      "for i in range(6):\n",
      "    plot(x, jn(i, x))"
     ],
     "language": "python",
     "metadata": {
      "slideshow": {
       "slide_type": "fragment"
      }
     },
     "outputs": [
      {
       "metadata": {},
       "output_type": "display_data",
       "png": "[encoded data removed]",
       "text": [
        "<matplotlib.figure.Figure at 0x5311950>"
       ]
      }
     ],
     "prompt_number": 95
    },
    {
     "cell_type": "markdown",
     "metadata": {
      "slideshow": {
       "slide_type": "slide"
      }
     },
     "source": [
      "#2.2 IPython notebook\n",
      "\n",
      "Locally, you can run\n",
      "<pre>\n",
      "    ipython notebook --pylab inline\n",
      "</pre>\n",
      "\n",
      "* Evaluate and edit code by the chunk (cell) instead of by line\n",
      "* Keep images/plots/calculations inline with code\n",
      "* Excellent for interactive/iterative data exploration\n",
      "* Use markdown instead of comments for literate programming"
     ]
    },
    {
     "cell_type": "markdown",
     "metadata": {
      "slideshow": {
       "slide_type": "subslide"
      }
     },
     "source": [
      "#DEMO IPython Notebook\n",
      "\n",
      "If you're reading this, you're seeing my slides online. It's hard for me to demo this for you, but luckily there are [writeups](http://opentechschool.github.io/python-data-intro/core/notebook.html) and [screencasts](http://www.youtube.com/watch?v=H6dLGQw9yFQ) out there of how awesome IPython notebook is.\n",
      "\n",
      "![](files/likeaboss2.jpg)"
     ]
    },
    {
     "cell_type": "markdown",
     "metadata": {
      "slideshow": {
       "slide_type": "subslide"
      }
     },
     "source": [
      "# Bonus: NBconvert\n",
      "\n",
      "* Converts notebooks into a variety of formats\n",
      "    * LaTeX/pdf\n",
      "    * HTML\n",
      "    * **Reveal.js**\n",
      "* This entire presentation was made with IPython notebook! [GitHub Source](https://github.com/clayadavis/python-like-a-boss)\n",
      "* Notebooks can then be hosted/shared with [NBviewier](http://nbviewer.ipython.org/urls/raw.github.com/jrjohansson/qutip-lectures/master/Lecture-1-Jaynes-Cumming-model.ipynb) or [Wakari](https://www.wakari.io/sharing/bundle/wakari_demo/realtime_twitter_analysis)"
     ]
    },
    {
     "cell_type": "markdown",
     "metadata": {
      "slideshow": {
       "slide_type": "subslide"
      }
     },
     "source": [
      "# Extra Bonus: Python + JavaScript in the notebook\n",
      "\n",
      "Run [this notebook](https://www.wakari.io/sharing/bundle/wakari_demo/realtime_twitter_analysis) in Wakari to see Python + JavaScript in action\n",
      "\n",
      "[![](files/like-a-boss1.jpg)](https://www.wakari.io/sharing/bundle/wakari_demo/realtime_twitter_analysis)"
     ]
    },
    {
     "cell_type": "markdown",
     "metadata": {
      "slideshow": {
       "slide_type": "slide"
      }
     },
     "source": [
      "#3. Use the SciPy stack"
     ]
    },
    {
     "cell_type": "markdown",
     "metadata": {
      "slideshow": {
       "slide_type": "fragment"
      }
     },
     "source": [
      "Actually..."
     ]
    },
    {
     "cell_type": "markdown",
     "metadata": {
      "slideshow": {
       "slide_type": "slide"
      }
     },
     "source": [
      "#3. Use *the rest of* the SciPy stack\n",
      "\n",
      "![](files/scipy.png)"
     ]
    },
    {
     "cell_type": "markdown",
     "metadata": {
      "slideshow": {
       "slide_type": "slide"
      }
     },
     "source": [
      "# 3.1 Numpy\n",
      "\n",
      "* Used for n-dimensional arrays\n",
      "* C code under the hood, so it's *really* fast when used correctly\n",
      "* Use it to replace **MATLAB/Octave**\n",
      "\n",
      "[Link](http://www.numpy.org/)"
     ]
    },
    {
     "cell_type": "markdown",
     "metadata": {
      "slideshow": {
       "slide_type": "subslide"
      }
     },
     "source": [
      "# Example\n",
      "The \"native\" Python solution for matrices is often to use a list of lists, but this can be really awful. \n",
      "\n",
      "For example, let's look at column-wise operations on a list of lists."
     ]
    },
    {
     "cell_type": "code",
     "collapsed": false,
     "input": [
      "import random as rd\n",
      "N = 4\n",
      "\n",
      "lol = [[rd.random() for c in range(N)] for r in range(N)]\n",
      "# OR\n",
      "lol = []\n",
      "for r in range(N):\n",
      "    row = []\n",
      "    for c in range(N):\n",
      "        row.append(rd.random())\n",
      "    lol.append(row)\n",
      "lol"
     ],
     "language": "python",
     "metadata": {
      "slideshow": {
       "slide_type": "fragment"
      }
     },
     "outputs": [
      {
       "metadata": {},
       "output_type": "pyout",
       "prompt_number": 53,
       "text": [
        "[[0.9937229473980533,\n",
        "  0.995334868014186,\n",
        "  0.5942674962738761,\n",
        "  0.5154385022192677],\n",
        " [0.422784005229769,\n",
        "  0.7807343114323023,\n",
        "  0.09179473422846407,\n",
        "  0.609573372880339],\n",
        " [0.4972764651566518,\n",
        "  0.13311678867268917,\n",
        "  0.12249203373176598,\n",
        "  0.8453804747179231],\n",
        " [0.15205034547325147,\n",
        "  0.6133030575174816,\n",
        "  0.9485418183964225,\n",
        "  0.8287048466130321]]"
       ]
      }
     ],
     "prompt_number": 53
    },
    {
     "cell_type": "markdown",
     "metadata": {
      "slideshow": {
       "slide_type": "subslide"
      }
     },
     "source": [
      "List slicing: Can we get the first column of this \"matrix?\"?"
     ]
    },
    {
     "cell_type": "code",
     "collapsed": false,
     "input": [
      "lol[:,0]"
     ],
     "language": "python",
     "metadata": {
      "slideshow": {
       "slide_type": "fragment"
      }
     },
     "outputs": [
      {
       "ename": "TypeError",
       "evalue": "list indices must be integers, not tuple",
       "output_type": "pyerr",
       "traceback": [
        "\u001b[1;31m---------------------------------------------------------------------------\u001b[0m\n\u001b[1;31mTypeError\u001b[0m                                 Traceback (most recent call last)",
        "\u001b[1;32m<ipython-input-55-fb5f0d5bbc73>\u001b[0m in \u001b[0;36m<module>\u001b[1;34m()\u001b[0m\n\u001b[1;32m----> 1\u001b[1;33m \u001b[0mlol\u001b[0m\u001b[1;33m[\u001b[0m\u001b[1;33m:\u001b[0m\u001b[1;33m,\u001b[0m\u001b[1;36m0\u001b[0m\u001b[1;33m]\u001b[0m\u001b[1;33m\u001b[0m\u001b[0m\n\u001b[0m",
        "\u001b[1;31mTypeError\u001b[0m: list indices must be integers, not tuple"
       ]
      }
     ],
     "prompt_number": 55
    },
    {
     "cell_type": "markdown",
     "metadata": {
      "slideshow": {
       "slide_type": "fragment"
      }
     },
     "source": [
      "Try again."
     ]
    },
    {
     "cell_type": "markdown",
     "metadata": {
      "slideshow": {
       "slide_type": "subslide"
      }
     },
     "source": [
      "How about this?"
     ]
    },
    {
     "cell_type": "code",
     "collapsed": false,
     "input": [
      "lol[:][0]"
     ],
     "language": "python",
     "metadata": {
      "slideshow": {
       "slide_type": "fragment"
      }
     },
     "outputs": [
      {
       "metadata": {},
       "output_type": "pyout",
       "prompt_number": 56,
       "text": [
        "[0.9937229473980533, 0.995334868014186, 0.5942674962738761, 0.5154385022192677]"
       ]
      }
     ],
     "prompt_number": 56
    },
    {
     "cell_type": "markdown",
     "metadata": {
      "slideshow": {
       "slide_type": "fragment"
      }
     },
     "source": [
      "This is actually the first *row*. Seriously, go back and check."
     ]
    },
    {
     "cell_type": "markdown",
     "metadata": {
      "slideshow": {
       "slide_type": "subslide"
      }
     },
     "source": [
      "Surely a list comprehension can save us:"
     ]
    },
    {
     "cell_type": "code",
     "collapsed": false,
     "input": [
      "[x[0] for x in lol]"
     ],
     "language": "python",
     "metadata": {
      "slideshow": {
       "slide_type": "fragment"
      }
     },
     "outputs": [
      {
       "metadata": {},
       "output_type": "pyout",
       "prompt_number": 57,
       "text": [
        "[0.9937229473980533,\n",
        " 0.422784005229769,\n",
        " 0.4972764651566518,\n",
        " 0.15205034547325147]"
       ]
      }
     ],
     "prompt_number": 57
    },
    {
     "cell_type": "markdown",
     "metadata": {
      "slideshow": {
       "slide_type": "fragment"
      }
     },
     "source": [
      "That works, but... ugh.\n",
      "\n",
      "Do you want to write a column-wise sum?"
     ]
    },
    {
     "cell_type": "markdown",
     "metadata": {
      "slideshow": {
       "slide_type": "subslide"
      }
     },
     "source": [
      "This isn't FORTRAN. I shouldn't have to think about which way my matrix is laid out, row- or column-major. Try again with Numpy:"
     ]
    },
    {
     "cell_type": "code",
     "collapsed": false,
     "input": [
      "import numpy as np\n",
      "\n",
      "npm = np.random.random((N, N))\n",
      "npm"
     ],
     "language": "python",
     "metadata": {
      "slideshow": {
       "slide_type": "fragment"
      }
     },
     "outputs": [
      {
       "metadata": {},
       "output_type": "pyout",
       "prompt_number": 62,
       "text": [
        "array([[ 0.15602394,  0.98540191,  0.13926817,  0.23745073],\n",
        "       [ 0.51627372,  0.53242708,  0.27257836,  0.30676598],\n",
        "       [ 0.04349275,  0.16361163,  0.3415986 ,  0.49103593],\n",
        "       [ 0.33081051,  0.99886844,  0.76993015,  0.55732118]])"
       ]
      }
     ],
     "prompt_number": 62
    },
    {
     "cell_type": "code",
     "collapsed": false,
     "input": [
      "npm[:,0]"
     ],
     "language": "python",
     "metadata": {
      "slideshow": {
       "slide_type": "fragment"
      }
     },
     "outputs": [
      {
       "metadata": {},
       "output_type": "pyout",
       "prompt_number": 63,
       "text": [
        "array([ 0.15602394,  0.51627372,  0.04349275,  0.33081051])"
       ]
      }
     ],
     "prompt_number": 63
    },
    {
     "cell_type": "markdown",
     "metadata": {
      "slideshow": {
       "slide_type": "fragment"
      }
     },
     "source": [
      "Nice. And that column-wise sum?"
     ]
    },
    {
     "cell_type": "code",
     "collapsed": false,
     "input": [
      "npm.sum(0)"
     ],
     "language": "python",
     "metadata": {
      "slideshow": {
       "slide_type": "fragment"
      }
     },
     "outputs": [
      {
       "metadata": {},
       "output_type": "pyout",
       "prompt_number": 67,
       "text": [
        "array([ 1.04660092,  2.68030907,  1.52337528,  1.59257382])"
       ]
      }
     ],
     "prompt_number": 67
    },
    {
     "cell_type": "markdown",
     "metadata": {
      "slideshow": {
       "slide_type": "fragment"
      }
     },
     "source": [
      "Like a boss."
     ]
    },
    {
     "cell_type": "markdown",
     "metadata": {
      "slideshow": {
       "slide_type": "subslide"
      }
     },
     "source": [
      "# Bonus Example: Conway's Game of Life\n",
      "\n",
      "Uses Numpy's image convolution for a really fast, really elegant Game of Life implementation.\n",
      "\n",
      "Source: [\"Think Complexity\", Allen B. Downey](http://www.greenteapress.com/compmod/html/book008.html)"
     ]
    },
    {
     "cell_type": "code",
     "collapsed": false,
     "input": [
      "import numpy\n",
      "import scipy.ndimage\n",
      "import Image\n",
      "\n",
      "class Life(object):\n",
      "\n",
      "    def __init__(self, n, p=0.5, mode='wrap'):\n",
      "        self.n = n\n",
      "        self.mode = mode\n",
      "        self.array = numpy.uint8(numpy.random.random((n, n)) < p)\n",
      "        self.weights = numpy.array([[1,1,1],\n",
      "                                    [1,10,1],\n",
      "                                    [1,1,1]], dtype=numpy.uint8)\n",
      "\n",
      "    def step(self):\n",
      "        con = scipy.ndimage.filters.convolve(self.array,\n",
      "                                             self.weights,\n",
      "                                             mode=self.mode)\n",
      "\n",
      "        boolean = (con==3) | (con==12) | (con==13)\n",
      "        self.array = numpy.int8(boolean)\n",
      "        \n",
      "    def run(self, N):\n",
      "        for _ in range(N):\n",
      "            self.step()\n",
      "        \n",
      "    def draw(self, scale):\n",
      "        im = Image.fromarray(numpy.uint8(self.array)*255)\n",
      "        z = int(scale*self.n)\n",
      "        return im.resize((z,z))"
     ],
     "language": "python",
     "metadata": {
      "slideshow": {
       "slide_type": "fragment"
      }
     },
     "outputs": [],
     "prompt_number": 98
    },
    {
     "cell_type": "code",
     "collapsed": false,
     "input": [
      "l = Life(50)\n",
      "imshow(l.draw(15))"
     ],
     "language": "python",
     "metadata": {
      "slideshow": {
       "slide_type": "subslide"
      }
     },
     "outputs": [
      {
       "metadata": {},
       "output_type": "pyout",
       "prompt_number": 99,
       "text": [
        "<matplotlib.image.AxesImage at 0x547cf10>"
       ]
      },
      {
       "metadata": {},
       "output_type": "display_data",
       "png": "[encoded data removed]",
       "text": [
        "<matplotlib.figure.Figure at 0x54d0b90>"
       ]
      }
     ],
     "prompt_number": 99
    },
    {
     "cell_type": "code",
     "collapsed": false,
     "input": [
      "l.run(10)\n",
      "imshow(l.draw(15))"
     ],
     "language": "python",
     "metadata": {
      "slideshow": {
       "slide_type": "subslide"
      }
     },
     "outputs": [
      {
       "metadata": {},
       "output_type": "pyout",
       "prompt_number": 100,
       "text": [
        "<matplotlib.image.AxesImage at 0x55d0210>"
       ]
      },
      {
       "metadata": {},
       "output_type": "display_data",
       "png": "[encoded data removed]",
       "text": [
        "<matplotlib.figure.Figure at 0x549e210>"
       ]
      }
     ],
     "prompt_number": 100
    },
    {
     "cell_type": "markdown",
     "metadata": {
      "slideshow": {
       "slide_type": "slide"
      }
     },
     "source": [
      "# 3.2 Scipy library\n",
      "\n",
      "* Higher-level interface for numeric computation with Numpy\n",
      "* Many submodules for common computational tasks\n",
      "    * `scipy.stats`\n",
      "    * `scipy.optimize`\n",
      "    * `scipy.linalg`\n",
      "    * `scipy.signal`\n",
      "    * `scipy.sparse.csgraph` (compressed sparse graph)\n",
      "    * and much more\n",
      "* Use it to replace **R** and **MATLAB/Octave**\n",
      "\n",
      "[Link](http://www.scipy.org/scipylib/index.html)"
     ]
    },
    {
     "cell_type": "markdown",
     "metadata": {
      "slideshow": {
       "slide_type": "subslide"
      }
     },
     "source": [
      "# Example: Linear Regression"
     ]
    },
    {
     "cell_type": "code",
     "collapsed": false,
     "input": [
      "from scipy import stats\n",
      "import numpy as np\n",
      "\n",
      "x = np.random.random(10)\n",
      "y = np.random.random(10)\n",
      "slope, intercept, r_value, p_value, std_err = stats.linregress(x,y)\n",
      "\n",
      "print \"r-squared:\", r_value**2"
     ],
     "language": "python",
     "metadata": {
      "slideshow": {
       "slide_type": "fragment"
      }
     },
     "outputs": [
      {
       "output_type": "stream",
       "stream": "stdout",
       "text": [
        "r-squared: 0.109819072488\n"
       ]
      }
     ],
     "prompt_number": 2
    },
    {
     "cell_type": "markdown",
     "metadata": {
      "slideshow": {
       "slide_type": "fragment"
      }
     },
     "source": [
      "We'll come back to this in a minute."
     ]
    },
    {
     "cell_type": "markdown",
     "metadata": {
      "slideshow": {
       "slide_type": "slide"
      }
     },
     "source": [
      "# 3.3 Matplotlib\n",
      "\n",
      "* Comprehensive 2D plotting library\n",
      "* Incredibly flexible and powerful\n",
      "* Steep learning curve, similar to native MATLAB and R plotting\n",
      "\n",
      "[Link](http://matplotlib.org/)"
     ]
    },
    {
     "cell_type": "markdown",
     "metadata": {
      "slideshow": {
       "slide_type": "subslide"
      }
     },
     "source": [
      "# Example: Linear Regression, continued\n",
      "\n",
      "From before, we have the following:"
     ]
    },
    {
     "cell_type": "code",
     "collapsed": false,
     "input": [
      "from scipy import stats\n",
      "import numpy as np\n",
      "\n",
      "x = np.random.random(10)\n",
      "y = np.random.random(10)\n",
      "slope, intercept, r_value, p_value, std_err = stats.linregress(x,y)\n",
      "\n",
      "print \"r-squared:\", r_value**2"
     ],
     "language": "python",
     "metadata": {
      "slideshow": {
       "slide_type": "fragment"
      }
     },
     "outputs": []
    },
    {
     "cell_type": "code",
     "collapsed": false,
     "input": [
      "import matplotlib.pyplot as plt\n",
      "\n",
      "sizes = 1000* np.random.random(10)\n",
      "colors = np.random.random(10)\n",
      "\n",
      "fit_x = np.linspace(0,1,100)\n",
      "fit_y = slope * xx + intercept\n",
      "\n",
      "plt.scatter(x,y, sizes, colors, alpha=0.5)\n",
      "plt.plot(fit_x, fit_y, '--r')\n",
      "\n",
      "plt.title(\"Fit line to random junk\", fontsize=16)\n",
      "plt.show()"
     ],
     "language": "python",
     "metadata": {
      "slideshow": {
       "slide_type": "subslide"
      }
     },
     "outputs": [
      {
       "metadata": {},
       "output_type": "display_data",
       "png": "[encoded data removed]",
       "text": [
        "<matplotlib.figure.Figure at 0x39a6c90>"
       ]
      }
     ],
     "prompt_number": 48
    },
    {
     "cell_type": "markdown",
     "metadata": {
      "slideshow": {
       "slide_type": "slide"
      }
     },
     "source": [
      "# 3.4 Pandas\n",
      "\n",
      "* Used for manipulating tabular data \n",
      "    * SQL query output\n",
      "    * CSV\n",
      "* Has many features for time series\n",
      "* Allows very expressive syntax\n",
      "* Provides a Data Frame structure similar to that in **R**\n",
      "* Has NumPy at the core, so can be very fast\n",
      "\n",
      "[Link](http://pandas.pydata.org/)"
     ]
    },
    {
     "cell_type": "markdown",
     "metadata": {
      "slideshow": {
       "slide_type": "subslide"
      }
     },
     "source": [
      "# Example: Kinsey Reporter's timelines\n",
      "\n",
      "**TASK**: Calculate how many responses [Kinsey Reporter](https://kinseyreporter.org) received, with *weekly* resolution, for a given tag.\n",
      "\n",
      "* Reports come in, and each report has one or more tags associated with it.\n",
      "* First, we need to do a SQL query to get all the reports associated with a specific tag (don't worry if you're not familiar with SQL)\n",
      "\n",
      "        SELECT `option`, \n",
      "            DATE(timestamp) as datestamp, \n",
      "            count(1) as num_answers\n",
      "        FROM survey_event, survey_answer, survey_option\n",
      "        WHERE event_id = survey_event.id\n",
      "            AND option_id = survey_option.id\n",
      "        GROUP BY datestamp"
     ]
    },
    {
     "cell_type": "markdown",
     "metadata": {
      "slideshow": {
       "slide_type": "subslide"
      }
     },
     "source": [
      "The results come to Python looking like this:\n",
      "\n",
      "\n",
      "    [\n",
      "        ...\n",
      "        ('smile flirt', datetime.date(2013,5,23), 12),\n",
      "        ('smile flirt', datetime.date(2013,5,24), 9),\n",
      "        ...\n",
      "    ]"
     ]
    },
    {
     "cell_type": "markdown",
     "metadata": {
      "slideshow": {
       "slide_type": "fragment"
      }
     },
     "source": [
      "To calculate the weekly timeline with native Python would be... uncomfortable. One must:\n",
      "\n",
      "1. Fill in any missing days with zeros\n",
      "2. Sort the list by date, go through and sum up every set of seven counts"
     ]
    },
    {
     "cell_type": "markdown",
     "metadata": {
      "slideshow": {
       "slide_type": "fragment"
      }
     },
     "source": [
      "With Pandas, it's as simple as:\n",
      "    \n",
      "    import pandas as pd\n",
      "    \n",
      "    df = pd.DataFrame.from_records(kr_rows, index=datestamp)\n",
      "    timeline = df['num_answers'].asfreq('D').resample('W', how=sum).fillna(0)"
     ]
    },
    {
     "cell_type": "markdown",
     "metadata": {
      "slideshow": {
       "slide_type": "subslide"
      }
     },
     "source": [
      "#Example: Auto MPG analysis\n",
      "\n",
      "In addition to making time series easier, Pandas makes plotting a snap too.\n",
      "\n",
      "This is a notebook where I slice and dice some automobile gas mileage data: [https://www.wakari.io/sharing/bundle/clayadavis/mpg](https://www.wakari.io/sharing/bundle/clayadavis/mpg)\n",
      "\n",
      "Key concepts used in the MPG analysis:\n",
      "\n",
      "* `DataFrame.group_by()`\n",
      "* `Series.describe()`\n",
      "* `Series.plot()`\n",
      "* `DataFrame.boxplot()`\n",
      "* `DataFrame.hist()`\n",
      "* `Series.rolling_mean()`\n"
     ]
    },
    {
     "cell_type": "markdown",
     "metadata": {
      "slideshow": {
       "slide_type": "slide"
      }
     },
     "source": [
      "# 3.5 Sympy\n",
      "\n",
      "* Symbolic math library\n",
      "* Do all that algebra/calculus you're terrible at!\n",
      "    * Simplification\n",
      "    * Expansion\n",
      "    * Integration\n",
      "    * Differentiation\n",
      "    * etc.\n",
      "* If output supports it (e.g. IPython notebook), prints LaTeX or unicode output\n",
      "* Use it to replace **Mathematica**\n",
      "\n",
      "[Link](http://sympy.org/en/index.html)"
     ]
    },
    {
     "cell_type": "markdown",
     "metadata": {
      "slideshow": {
       "slide_type": "subslide"
      }
     },
     "source": [
      "# Example: Differentiation"
     ]
    },
    {
     "cell_type": "code",
     "collapsed": false,
     "input": [
      "import sympy\n",
      "sympy.init_printing(use_latex=True) ##or use_unicode=True in a console\n",
      "x, y = sympy.symbols('x y')"
     ],
     "language": "python",
     "metadata": {
      "slideshow": {
       "slide_type": "fragment"
      }
     },
     "outputs": [],
     "prompt_number": 93
    },
    {
     "cell_type": "markdown",
     "metadata": {
      "slideshow": {
       "slide_type": "fragment"
      }
     },
     "source": [
      "We differentiate and get an answer..."
     ]
    },
    {
     "cell_type": "code",
     "collapsed": false,
     "input": [
      "sympy.diff(sympy.exp(x**2), x)"
     ],
     "language": "python",
     "metadata": {
      "slideshow": {
       "slide_type": "fragment"
      }
     },
     "outputs": [
      {
       "latex": [
        "$$2 x e^{x^{2}}$$"
       ],
       "metadata": {},
       "output_type": "pyout",
       "prompt_number": 74,
       "text": [
        "     \u239b 2\u239e\n",
        "     \u239dx \u23a0\n",
        "2\u22c5x\u22c5\u212f    "
       ]
      }
     ],
     "prompt_number": 74
    },
    {
     "cell_type": "markdown",
     "metadata": {
      "slideshow": {
       "slide_type": "fragment"
      }
     },
     "source": [
      "...or we can create an unevaluated expression for further manipulation..."
     ]
    },
    {
     "cell_type": "code",
     "collapsed": false,
     "input": [
      "my_deriv = sympy.Derivative(sympy.exp(x**2), x, x)\n",
      "my_deriv"
     ],
     "language": "python",
     "metadata": {
      "slideshow": {
       "slide_type": "fragment"
      }
     },
     "outputs": [
      {
       "latex": [
        "$$\\frac{d^{2}}{d x^{2}}  e^{x^{2}}$$"
       ],
       "metadata": {},
       "output_type": "pyout",
       "prompt_number": 75,
       "text": [
        "  2\u239b \u239b 2\u239e\u239e\n",
        " d \u239c \u239dx \u23a0\u239f\n",
        "\u2500\u2500\u2500\u239d\u212f    \u23a0\n",
        "  2       \n",
        "dx        "
       ]
      }
     ],
     "prompt_number": 75
    },
    {
     "cell_type": "markdown",
     "metadata": {
      "slideshow": {
       "slide_type": "fragment"
      }
     },
     "source": [
      "...which we can evaluate later."
     ]
    },
    {
     "cell_type": "code",
     "collapsed": false,
     "input": [
      "my_deriv.doit()"
     ],
     "language": "python",
     "metadata": {
      "slideshow": {
       "slide_type": "fragment"
      }
     },
     "outputs": [
      {
       "latex": [
        "$$2 \\left(2 x^{2} + 1\\right) e^{x^{2}}$$"
       ],
       "metadata": {},
       "output_type": "pyout",
       "prompt_number": 76,
       "text": [
        "              \u239b 2\u239e\n",
        "  \u239b   2    \u239e  \u239dx \u23a0\n",
        "2\u22c5\u239d2\u22c5x  + 1\u23a0\u22c5\u212f    "
       ]
      }
     ],
     "prompt_number": 76
    },
    {
     "cell_type": "markdown",
     "metadata": {
      "slideshow": {
       "slide_type": "subslide"
      }
     },
     "source": [
      "# More Sympy examples"
     ]
    },
    {
     "cell_type": "code",
     "collapsed": false,
     "input": [
      "sympy.Integral(sympy.exp(-x**2 - y**2), x, y)"
     ],
     "language": "python",
     "metadata": {
      "slideshow": {
       "slide_type": "fragment"
      }
     },
     "outputs": [
      {
       "latex": [
        "$$\\iint e^{- x^{2} - y^{2}}\\, dx\\, dy$$"
       ],
       "metadata": {},
       "output_type": "pyout",
       "prompt_number": 82,
       "text": [
        "\u2320 \u2320                 \n",
        "\u23ae \u23ae     2    2      \n",
        "\u23ae \u23ae  - x  - y       \n",
        "\u23ae \u23ae \u212f          dx dy\n",
        "\u2321 \u2321                 "
       ]
      }
     ],
     "prompt_number": 82
    },
    {
     "cell_type": "code",
     "collapsed": false,
     "input": [
      "from sympy import oo\n",
      "sympy.integrate(sympy.exp(-x**2 - y**2), (x, -oo, oo), (y, -oo, oo))"
     ],
     "language": "python",
     "metadata": {
      "slideshow": {
       "slide_type": "fragment"
      }
     },
     "outputs": [
      {
       "latex": [
        "$$\\pi$$"
       ],
       "metadata": {},
       "output_type": "pyout",
       "prompt_number": 84,
       "text": [
        "\u03c0"
       ]
      }
     ],
     "prompt_number": 84
    },
    {
     "cell_type": "code",
     "collapsed": false,
     "input": [
      "sympy.solve([x*y - 7, x + y - 6], [x, y])"
     ],
     "language": "python",
     "metadata": {
      "slideshow": {
       "slide_type": "fragment"
      }
     },
     "outputs": [
      {
       "latex": [
        "$$\\begin{bmatrix}\\begin{pmatrix}- \\sqrt{2} + 3, & \\sqrt{2} + 3\\end{pmatrix}, & \\begin{pmatrix}\\sqrt{2} + 3, & - \\sqrt{2} + 3\\end{pmatrix}\\end{bmatrix}$$"
       ],
       "metadata": {},
       "output_type": "pyout",
       "prompt_number": 83,
       "text": [
        "\u23a1\u239b    ___        ___    \u239e  \u239b  ___          ___    \u239e\u23a4\n",
        "\u23a3\u239d- \u2572\u2571 2  + 3, \u2572\u2571 2  + 3\u23a0, \u239d\u2572\u2571 2  + 3, - \u2572\u2571 2  + 3\u23a0\u23a6"
       ]
      }
     ],
     "prompt_number": 83
    },
    {
     "cell_type": "markdown",
     "metadata": {
      "slideshow": {
       "slide_type": "subslide"
      }
     },
     "source": [
      "#OMFG Example: [Sympy Gamma](http://www.sympygamma.com/input/?i=integrate%28exp%28x%29*cos%28x%29%2C+x%29)\n",
      "\n",
      "* Use it to replace Wolfram Alpha **PRO**"
     ]
    },
    {
     "cell_type": "markdown",
     "metadata": {
      "slideshow": {
       "slide_type": "fragment"
      }
     },
     "source": [
      "![](files/patrick.jpg)"
     ]
    },
    {
     "cell_type": "markdown",
     "metadata": {
      "slideshow": {
       "slide_type": "slide"
      }
     },
     "source": [
      "# 3.x Honorable SciPy mention: scikit-learn\n",
      "    \n",
      "Mature and featureful library for machine learning. [Link](http://scikit-learn.org/stable/)\n",
      "\n",
      "![](files/sklearn.png)"
     ]
    },
    {
     "cell_type": "markdown",
     "metadata": {
      "slideshow": {
       "slide_type": "slide"
      }
     },
     "source": [
      "#Fin\n",
      "\n",
      "Thanks for your time. Hit me up on [Twitter](https://twitter.com/clayadavis) or email if you have any questions."
     ]
    },
    {
     "cell_type": "markdown",
     "metadata": {
      "slideshow": {
       "slide_type": "skip"
      }
     },
     "source": [
      "# 4. Make web GUIs\n",
      "\n",
      "* As a community, we've focused on creating awesome tools for data analysis\n",
      "* Less attention has been paid to sharing workflows once created\n",
      "    * IPython notebook is a huge step in the right direction\n",
      "* GUIs are cool, they lower the barrier of entry"
     ]
    },
    {
     "cell_type": "markdown",
     "metadata": {
      "slideshow": {
       "slide_type": "skip"
      }
     },
     "source": [
      "Some truths about GUIs\n",
      "\n",
      "* GUIs suck to program\n",
      "* For 90% of use cases, a web GUI on a modern browser is as good as native\n",
      "* 90% of (data) scientists want the same thing from a GUI:\n",
      "    * Give me knobs to twiddle\n",
      "    * Let me see how it affects the output"
     ]
    },
    {
     "cell_type": "markdown",
     "metadata": {
      "slideshow": {
       "slide_type": "skip"
      }
     },
     "source": [
      "# A modest proposal\n",
      "\n",
      "### Comprehensive GUI frameworks exist already. \n",
      "\n",
      "### There is room for domain-specific GUI frameworks that sacrifice generality for speed and ease of use."
     ]
    },
    {
     "cell_type": "markdown",
     "metadata": {
      "slideshow": {
       "slide_type": "skip"
      }
     },
     "source": [
      "# Enter Ashiba\n",
      "\n",
      "* A framework for making webapps with Python at their core\n",
      "    * GUI elements defined in HTML or Enaml\n",
      "    * No JavaScript needed\n",
      "* (almost) free software\n",
      "* Backed by Continuum Analytics"
     ]
    },
    {
     "cell_type": "markdown",
     "metadata": {
      "slideshow": {
       "slide_type": "skip"
      }
     },
     "source": [
      "Why it rocks:\n",
      "    \n",
      "* Uses familiar Python libraries on the backend\n",
      "    * Pandas\n",
      "    * Numpy\n",
      "    * Matplotlib\n",
      "* Allows rapid development of web applications from existing Python code\n",
      "* Moves beyond \"open data\" -- share both the data and a framework to analyze it\n",
      "* Useful at every stage of te research process\n",
      "    * Exploring data and forming hypotheses\n",
      "    * Eliciting collaboration and feedback from peers\n",
      "    * Enabling wide dialog and evaluation of the finished product"
     ]
    },
    {
     "cell_type": "markdown",
     "metadata": {
      "slideshow": {
       "slide_type": "skip"
      }
     },
     "source": [
      "#DEMOS\n",
      "\n",
      "![](files/spongebob.gif)"
     ]
    },
    {
     "cell_type": "markdown",
     "metadata": {
      "slideshow": {
       "slide_type": "skip"
      }
     },
     "source": [
      "# 5. Profile and Compile\n",
      "\n",
      "Rule 1: \"Premature optimization is the root of all evil\" $-$ Knuth\n",
      "\n",
      "Rule 2: Post-hoc optimization is fucking rad"
     ]
    },
    {
     "cell_type": "markdown",
     "metadata": {
      "slideshow": {
       "slide_type": "skip"
      }
     },
     "source": [
      "## The broad view\n",
      "\n",
      "* My time is more valuable than CPU time.\n",
      "* Optimization is only useful when it lets me do something otherwise impossible with the resources I have."
     ]
    },
    {
     "cell_type": "markdown",
     "metadata": {
      "slideshow": {
       "slide_type": "skip"
      }
     },
     "source": [
      "# 5.1: Profile to find hot loops"
     ]
    },
    {
     "cell_type": "markdown",
     "metadata": {
      "slideshow": {
       "slide_type": "skip"
      }
     },
     "source": [
      "# 5.2 Use Numba to compile hot loops"
     ]
    }
   ],
   "metadata": {}
  }
 ]
}